{
 "cells": [
  {
   "cell_type": "markdown",
   "metadata": {
    "slideshow": {
     "slide_type": "slide"
    }
   },
   "source": [
    "#  Introduction\n",
    "\n",
    "To understand how Blockchain works, we must first discuss how distributed systems work.\n",
    "\n",
    "The goal of this notebook is to explain the building blocks for any distributed system, and specifically a peer-to-peer system. P2P environment is a network where peers are connected, exchange information and run applications on top of it.\n",
    "\n",
    "The goals are as follows:\n",
    "- We will build a system block by block.\n",
    "- Distributed systems are hard as there are many random errors: race conditions, nasty bugs, deadlocks.\n",
    "- We will simplify the world to get to the juiciest parts without leaving out the essentials.  \n",
    "\n",
    "\n",
    "We will simulate the P2P environment locally to get an idea of how such systems would work and understand the design decision that developers make.\n",
    "\n",
    "To show the different tradeoffs and why developers and researchers choose specific designs, we need a way to simulate such an environment. Here we will simulate the network and message exchange via a  discrete event simulator: [SimPy](simpy.readthedocs.io/en/latest/).\n",
    "\n",
    "For the simplicity of use, you can use wrapper for SimPY implement a P2P network simulation: `p2psimpy`. \n",
    "\n",
    "\n",
    "# Simulation of P2P environments\n",
    "\n",
    "We start the notebook by introducing the backbone for such a simulation: `BaseSimulation`.\n",
    "This class represents the network of peers with their physical representations in the world, such as physical `location`, [`bandwidth`](https://en.wikipedia.org/wiki/Bandwidth_(computing)). \n",
    "\n",
    "These properties both define and restrict the capabilities of how fast you can transfer messages and how message travel through the network (which peers see the message, which channels are used).\n",
    "\n",
    "\n",
    "`BaseSimulation` consists of 3 main parameters: \n",
    " - *Locations*\n",
    " - *Network Topology* \n",
    " - *Services and Message Processors* \n",
    "\n",
    "We will explain them one by one. \n",
    "\n"
   ]
  },
  {
   "cell_type": "markdown",
   "metadata": {},
   "source": [
    "\n",
    "### Simulating latencies between locations\n",
    "\n",
    "The simulator simulates connection delays (`latency`) between the nodes in the physical space (`location`).\n",
    "This is a very rough representation of reality but is sufficient for us. You can read more about jitter and latency [here](https://www.tpx.com/blog/latency-jitter-and-packet-loss/) or [here](https://www.youtube.com/watch?v=WdbJdUh6W08).   \n",
    "\n",
    "\n",
    "\n",
    "Locations are defined as a `Config` class. Variables can be constant, or probabilistic (with a probability distribution using scipy).\n",
    "This class can be used as generators of parameters, saved and loaded as a [YAML](https://en.wikipedia.org/wiki/YAML) file."
   ]
  },
  {
   "cell_type": "markdown",
   "metadata": {},
   "source": [
    "  "
   ]
  },
  {
   "cell_type": "markdown",
   "metadata": {},
   "source": [
    "Location configuration should contain at least two fields: `locations` and `latencies`. \n",
    "- `locations` is an array or a tuple with names of locations.\n",
    "- `latencies` is a dictionary (matrix) with latencies of pairwise connections.\n",
    "\n",
    "Depending on the experiments, latencies can be constant, but a more realistic model is a probabilistic distribution.\n",
    "Such a distribution is represented with the `Dist` class. \n",
    "\n",
    "`Dist` class is a wrap-around [scipy.stats](https://docs.scipy.org/doc/scipy/reference/stats.html), which has a rich collection of distributions. Use the [link](https://docs.scipy.org/doc/scipy/reference/stats.html) as reference documentation when choosing a distribution function.   \n",
    "\n",
    "Finally,  `Config.get()` samples all the parameters from distributions and returns them as a dictionary.  \n",
    "\n",
    "Let's try it out:"
   ]
  },
  {
   "cell_type": "code",
   "execution_count": 3,
   "metadata": {
    "ExecuteTime": {
     "end_time": "2020-03-27T09:17:35.256784Z",
     "start_time": "2020-03-27T09:17:34.199645Z"
    },
    "recordTiming": true
   },
   "outputs": [],
   "source": [
    "from p2psimpy.config import *\n",
    "\n",
    "\n",
    "class ConstLocations(Config):\n",
    "    '''A configuration with 2 locations: LocA and LocB with constant latencies.'''\n",
    "    locations = ['LocA', 'LocB']\n",
    "    latencies = {\n",
    "        'LocA': {'LocB': 10, 'LocA': 2},\n",
    "        'LocB': {'LocB': 1}\n",
    "    }    \n",
    "\n",
    "class DistLocations(Config):\n",
    "    '''A configuration with 2 locations: LocA and LocB with variable latencies defined with a statistical function.'''\n",
    "    locations = ['LocA', 'LocB']\n",
    "    latencies = {\n",
    "        'LocB': {'LocB': Dist('gamma', (1, 1, 1))},\n",
    "        'LocA': {'LocB': Dist('norm', (12, 2)), 'LocA': Dist('norm', (2, 0.5))},\n",
    "    }    \n",
    "    "
   ]
  },
  {
   "cell_type": "code",
   "execution_count": 4,
   "metadata": {
    "ExecuteTime": {
     "end_time": "2020-03-27T09:17:35.274429Z",
     "start_time": "2020-03-27T09:17:35.259195Z"
    }
   },
   "outputs": [
    {
     "data": {
      "text/plain": [
       "{'latencies': {'LocA': {'LocB': 10, 'LocA': 2}, 'LocB': {'LocB': 1}},\n",
       " 'locations': ['LocA', 'LocB']}"
      ]
     },
     "execution_count": 4,
     "metadata": {},
     "output_type": "execute_result"
    }
   ],
   "source": [
    "ConstLocations.get()"
   ]
  },
  {
   "cell_type": "code",
   "execution_count": 5,
   "metadata": {
    "ExecuteTime": {
     "end_time": "2020-03-27T09:17:35.287131Z",
     "start_time": "2020-03-27T09:17:35.278297Z"
    }
   },
   "outputs": [
    {
     "data": {
      "text/plain": [
       "{'latencies': {'LocB': {'LocB': 2.6637805006575137},\n",
       "  'LocA': {'LocB': 12.69470761669785, 'LocA': 1.5591950253237754}},\n",
       " 'locations': ['LocA', 'LocB']}"
      ]
     },
     "execution_count": 5,
     "metadata": {},
     "output_type": "execute_result"
    }
   ],
   "source": [
    "DistLocations.get()"
   ]
  },
  {
   "cell_type": "markdown",
   "metadata": {},
   "source": [
    "Every time you call `Config.get()` it will return new sample"
   ]
  },
  {
   "cell_type": "code",
   "execution_count": 9,
   "metadata": {
    "ExecuteTime": {
     "end_time": "2020-03-27T09:17:35.304760Z",
     "start_time": "2020-03-27T09:17:35.294903Z"
    }
   },
   "outputs": [
    {
     "data": {
      "text/plain": [
       "{'latencies': {'LocB': {'LocB': 2.2010939594937735},\n",
       "  'LocA': {'LocB': 10.074332464304396, 'LocA': 1.2335070378394968}},\n",
       " 'locations': ['LocA', 'LocB']}"
      ]
     },
     "execution_count": 9,
     "metadata": {},
     "output_type": "execute_result"
    }
   ],
   "source": [
    "DistLocations.get()"
   ]
  },
  {
   "cell_type": "markdown",
   "metadata": {},
   "source": [
    " "
   ]
  },
  {
   "cell_type": "markdown",
   "metadata": {},
   "source": [
    "To visualize it we can represent latencies sample as pandas dataframe. It provides a readable table:"
   ]
  },
  {
   "cell_type": "code",
   "execution_count": 10,
   "metadata": {
    "ExecuteTime": {
     "end_time": "2020-03-27T09:17:35.896505Z",
     "start_time": "2020-03-27T09:17:35.307036Z"
    }
   },
   "outputs": [
    {
     "data": {
      "text/html": [
       "<div>\n",
       "<style scoped>\n",
       "    .dataframe tbody tr th:only-of-type {\n",
       "        vertical-align: middle;\n",
       "    }\n",
       "\n",
       "    .dataframe tbody tr th {\n",
       "        vertical-align: top;\n",
       "    }\n",
       "\n",
       "    .dataframe thead th {\n",
       "        text-align: right;\n",
       "    }\n",
       "</style>\n",
       "<table border=\"1\" class=\"dataframe\">\n",
       "  <thead>\n",
       "    <tr style=\"text-align: right;\">\n",
       "      <th></th>\n",
       "      <th>LocB</th>\n",
       "      <th>LocA</th>\n",
       "    </tr>\n",
       "  </thead>\n",
       "  <tbody>\n",
       "    <tr>\n",
       "      <th>LocB</th>\n",
       "      <td>2.001554</td>\n",
       "      <td>11.041492</td>\n",
       "    </tr>\n",
       "    <tr>\n",
       "      <th>LocA</th>\n",
       "      <td>NaN</td>\n",
       "      <td>2.120302</td>\n",
       "    </tr>\n",
       "  </tbody>\n",
       "</table>\n",
       "</div>"
      ],
      "text/plain": [
       "          LocB       LocA\n",
       "LocB  2.001554  11.041492\n",
       "LocA       NaN   2.120302"
      ]
     },
     "execution_count": 10,
     "metadata": {},
     "output_type": "execute_result"
    }
   ],
   "source": [
    "import pandas as pd \n",
    "\n",
    "lat_sample = pd.DataFrame(DistLocations.get()['latencies'])\n",
    "lat_sample"
   ]
  },
  {
   "cell_type": "markdown",
   "metadata": {
    "ExecuteTime": {
     "end_time": "2020-03-16T16:34:34.176798Z",
     "start_time": "2020-03-16T16:34:34.165723Z"
    }
   },
   "source": [
    "*Notice that table has **NaN** values. They will not be automatically filled with symmetric value if not specified.*\n",
    "\n",
    "We can transform the table to fill them up symmetrically. "
   ]
  },
  {
   "cell_type": "code",
   "execution_count": 11,
   "metadata": {
    "ExecuteTime": {
     "end_time": "2020-03-27T09:17:35.940332Z",
     "start_time": "2020-03-27T09:17:35.904410Z"
    }
   },
   "outputs": [
    {
     "data": {
      "text/html": [
       "<div>\n",
       "<style scoped>\n",
       "    .dataframe tbody tr th:only-of-type {\n",
       "        vertical-align: middle;\n",
       "    }\n",
       "\n",
       "    .dataframe tbody tr th {\n",
       "        vertical-align: top;\n",
       "    }\n",
       "\n",
       "    .dataframe thead th {\n",
       "        text-align: right;\n",
       "    }\n",
       "</style>\n",
       "<table border=\"1\" class=\"dataframe\">\n",
       "  <thead>\n",
       "    <tr style=\"text-align: right;\">\n",
       "      <th></th>\n",
       "      <th>LocB</th>\n",
       "      <th>LocA</th>\n",
       "    </tr>\n",
       "  </thead>\n",
       "  <tbody>\n",
       "    <tr>\n",
       "      <th>LocB</th>\n",
       "      <td>2.001554</td>\n",
       "      <td>11.041492</td>\n",
       "    </tr>\n",
       "    <tr>\n",
       "      <th>LocA</th>\n",
       "      <td>11.041492</td>\n",
       "      <td>2.120302</td>\n",
       "    </tr>\n",
       "  </tbody>\n",
       "</table>\n",
       "</div>"
      ],
      "text/plain": [
       "           LocB       LocA\n",
       "LocB   2.001554  11.041492\n",
       "LocA  11.041492   2.120302"
      ]
     },
     "execution_count": 11,
     "metadata": {},
     "output_type": "execute_result"
    }
   ],
   "source": [
    "lat_sample[pd.isnull(lat_sample)] = lat_sample.T[pd.isnull(lat_sample)]\n",
    "lat_sample"
   ]
  },
  {
   "cell_type": "markdown",
   "metadata": {},
   "source": [
    "\n",
    "### Visualizing the data\n",
    "\n",
    "\n",
    " 1. Prepare data: \n",
    "  - Trasfer to pandas dataframe\n",
    "  - Fill null values with the symmetic counter-part\n",
    "  - Transform into list of tuples: 'from', 'to', 'value' \n",
    "  \n",
    " 2. Get 100 samples from the configuration with latencies\n",
    " \n",
    " 3. Visualize in a grid of histograms\n",
    "\n"
   ]
  },
  {
   "cell_type": "code",
   "execution_count": 12,
   "metadata": {
    "ExecuteTime": {
     "end_time": "2020-03-27T09:17:41.570964Z",
     "start_time": "2020-03-27T09:17:35.952523Z"
    }
   },
   "outputs": [
    {
     "data": {
      "image/png": "[encoded data removed]",
      "text/plain": [
       "<Figure size 576x576 with 4 Axes>"
      ]
     },
     "metadata": {},
     "output_type": "display_data"
    }
   ],
   "source": [
    "\n",
    "import matplotlib.pyplot as plt\n",
    "import seaborn as sns\n",
    "sns.set(style='darkgrid')\n",
    "\n",
    "# 1. Data prepare\n",
    "def prepare(x):\n",
    "    x = pd.DataFrame(x)\n",
    "    x[pd.isnull(x)] = x.T[pd.isnull(x)]\n",
    "    return x.stack().reset_index()\\\n",
    "                    .rename(columns={'level_0':'from', 'level_1':'to', 0: 'value'})\n",
    "                    \n",
    "# 2. Get 100 samples\n",
    "df = pd.concat(prepare(DistLocations.get()['latencies']) for _ in range(100))\n",
    "\n",
    "# 3. Visualize in a grid of histograms\n",
    "g = sns.FacetGrid(df, col='to', row='from', height=4, aspect=1)\n",
    "g = g.map(sns.distplot, 'value')\n"
   ]
  },
  {
   "cell_type": "raw",
   "metadata": {},
   "source": []
  },
  {
   "cell_type": "markdown",
   "metadata": {},
   "source": [
    "The visulations shows the latency matrix for our two locations. "
   ]
  },
  {
   "cell_type": "markdown",
   "metadata": {},
   "source": [
    "----\n",
    "## Peers and Topologies \n",
    "\n",
    "Usually when designing your own system, the architect should think about the network topology: *How are peers connected to each other?*. \n",
    "\n",
    "\n",
    "Simulation can work in two modes: \n",
    "\n",
    "1. **NetworkX**. You know what topology you want to simulate, pass a network topology to the simulation.\n",
    "\n",
    "2. **Emergent**. Peers connect to each other without a pre-defined topology. A certain topology emerges through local rules, for example, peers connect with each other through the bootstrap peers and exchange data with each other. Typically, unstructured topologies of a peer-to-peer network fall in this category. You can read more [here](https://en.wikipedia.org/wiki/Bootstrapping_node), or  read how [Bitcoin network](https://en.bitcoin.it/wiki/Network) is formed.  \n",
    "\n",
    "\n",
    "### Networkx topology\n",
    "\n",
    "Let's first see how we can form a network topology.\n"
   ]
  },
  {
   "cell_type": "code",
   "execution_count": 13,
   "metadata": {
    "ExecuteTime": {
     "end_time": "2020-03-27T09:17:43.066290Z",
     "start_time": "2020-03-27T09:17:41.577831Z"
    },
    "recordTiming": true
   },
   "outputs": [
    {
     "data": {
      "image/png": "[encoded data removed]",
      "text/plain": [
       "<Figure size 432x288 with 1 Axes>"
      ]
     },
     "metadata": {},
     "output_type": "display_data"
    }
   ],
   "source": [
    "import networkx as nx\n",
    "\n",
    "peer_num = 10\n",
    "\n",
    "# Generate a random network network topology \n",
    "G = nx.erdos_renyi_graph(10, 0.5)\n",
    "\n",
    "# Assign a peer type to the peers with a type. Type if later used to tell which services to run.\n",
    "nx.set_node_attributes(G, {k: 'basic' for k in G.nodes()}, 'type')\n",
    "\n",
    "sns.set(style='dark')\n",
    "nx.draw_networkx(G)\n"
   ]
  },
  {
   "cell_type": "markdown",
   "metadata": {},
   "source": [
    "NetworkX is a library with rich semantics to work with graphs. You can read more [here](https://networkx.github.io/documentation/stable/reference/generators.html).  \n",
    "\n",
    "You can choose any graph, generate them and put `type` as node attributes. `type` is a name for the peer type. We will explain later on how it will be used in a simulation.  \n",
    "\n",
    "\n",
    "\n",
    "### Emergent topology\n",
    "\n",
    "What if topology is not known?\n",
    "\n",
    "In this case we can model the peer discovery mechanism through *bootstrapping* peers. The general bootstrap process is the following: \n",
    "1. Bootstrap nodes are first created and introduced to the network. The goal of bootstrap nodes is to maintain list of peers and connect them with each other upon request. Bootstrap nodes are usually known in advance, for example, hardcoded in the supplied code. \n",
    "2. The bootstrap procedure is as follows: a) new peer joins the network, b) peer sends a `Hello` message to one of bootstrap nodes, c) a bootstrap node responds to the peer with a random sample of known online peers. \n",
    "3. The peer connect with other peers from the given sample list.\n",
    "\n",
    "\n",
    "To run default bootstrap you should pass as a parameter `topology`, a dictionary with type `peer_id` -> {`type`: type_name}\n",
    "This is all abstracted in simulation, but you can specify your own bootstrap logic later. \n",
    "\n",
    "\n",
    "<!-- ### Explain more\n",
    "\n",
    "Discovery  -->"
   ]
  },
  {
   "cell_type": "markdown",
   "metadata": {},
   "source": [
    "-------\n",
    "## Peer types and services\n",
    "\n",
    "Finally, our simulation needs messages and service to process these messages. In `p2psimpy` we model it through Manager Classes and `PeerType`.\n",
    "\n",
    "Below we show an example of a simple map with one type of the peer: `basic`: \n",
    "\n",
    "- Peer is described with a `PeerType(PeerConfig, services)`. \n",
    "    - `PeerConfig` describes a physical capacities of the node: bandwidth for the messages that go through (upload and download) and location (one the specified before)\n",
    "    - `services` is a list of service that peer should run. There some standard services that you can use in your simulation. But you will also implement your own later!\n",
    "- Minimally peer should have at least a connection service to connect to the network and respond to the introduction messages. These are the standard connection services available for you: \n",
    "  - `BaseConnectionManager`: a simple connection service that can connect, ping other peers and disconnect unresponsive peers. This is the recommended service for a **Networkx** topology approach.  \n",
    "  - `P2PConnectionManager`: an extended BaseConnectionManger that additionally keeps the number of connections between specified `min_peers` and `max_peers`. If the number of local connections is lower than `min_peers`, service will actievly pool and ask other peers for new connection. If the number of local connections is higher than `max_peers`, service will refuse all new connection and disconnect the slowest peers. This is a recommended service for an **Emergent** topology approach. \n",
    "\n",
    "Let's see how it looks in code:\n"
   ]
  },
  {
   "cell_type": "code",
   "execution_count": 14,
   "metadata": {
    "ExecuteTime": {
     "end_time": "2020-03-27T09:17:43.208204Z",
     "start_time": "2020-03-27T09:17:43.085495Z"
    }
   },
   "outputs": [],
   "source": [
    "from p2psimpy.config import *\n",
    "from p2psimpy.consts import *\n",
    "    \n",
    "class PeerConfig(Config):\n",
    "    # Location of the peer - random location from the locations specified earlier \n",
    "    location = Dist('sample', DistLocations.locations)\n",
    "    # Bandwidth is normally distributed with average of 50 and var 10 Mbit\n",
    "    bandwidth_ul = Dist( 'norm', (50*MBit, 10*MBit))\n",
    "    bandwidth_dl = Dist( 'norm', (50*MBit, 10*MBit))\n",
    "\n",
    "# Let's add ConnectionManager - that will periodically ping neighbours and check if they are online.\n",
    "# We use BaseConnectionManager - that will periodically ping peer and disconnect unresponsive peers.\n",
    "from p2psimpy.services.connection_manager import BaseConnectionManager\n",
    "\n",
    "services = (BaseConnectionManager,)\n",
    "# We have on peer role: basic\n",
    "peer_types = {'basic': PeerType(PeerConfig, services)}"
   ]
  },
  {
   "cell_type": "markdown",
   "metadata": {},
   "source": [
    "How to use these configurations? Configs are used to get value. \n",
    "They work as generators and attribute descriptors.  "
   ]
  },
  {
   "cell_type": "markdown",
   "metadata": {},
   "source": [
    "----"
   ]
  },
  {
   "cell_type": "markdown",
   "metadata": {},
   "source": [
    "# Putting it all together\n",
    "\n",
    "\n",
    "Let's combine all you learned so far to run a simple simulation:\n",
    "\n",
    "1. Define locations and simulation world parameters.\n",
    "2. Define topology and number of peers with their types.  \n",
    "3. Define what each peer type is with a `PeerConfig` and what it does with services. \n",
    "\n",
    "\n",
    "After we defined all this we can create a simulation object and run it with `.run(time)`.\n",
    "\n",
    "Simulation has it's internal clock and scheduler for all events. The parameter `time` is a time until which the simulation is run. \n",
    "\n",
    "\n",
    "***The time is defined in milliseconds**!\n",
    "\n",
    "\n",
    "\n"
   ]
  },
  {
   "cell_type": "markdown",
   "metadata": {
    "ExecuteTime": {
     "end_time": "2020-03-11T09:50:33.374122Z",
     "start_time": "2020-03-11T09:50:33.347834Z"
    }
   },
   "source": [
    "## Random given topology \n",
    "\n",
    "Let us first try out with a random given topology generated as a networkx graph"
   ]
  },
  {
   "cell_type": "code",
   "execution_count": 15,
   "metadata": {
    "ExecuteTime": {
     "end_time": "2020-03-27T09:17:43.889018Z",
     "start_time": "2020-03-27T09:17:43.214432Z"
    }
   },
   "outputs": [
    {
     "data": {
      "image/png": "[encoded data removed]",
      "text/plain": [
       "<Figure size 432x288 with 1 Axes>"
      ]
     },
     "metadata": {},
     "output_type": "display_data"
    }
   ],
   "source": [
    "from p2psimpy.config import *\n",
    "from p2psimpy.consts import *\n",
    "import networkx as nx\n",
    "\n",
    "class Locations(Config):\n",
    "    locations = ['LocA', 'LocB']\n",
    "    latencies = {\n",
    "        'LocB': {'LocB': Dist('gamma', (1, 1, 1))},\n",
    "        'LocA': {'LocB': Dist('norm', (12, 2)), 'LocA': Dist('norm', (2, 0.5))},\n",
    "    } \n",
    "\n",
    "# Number of nodes\n",
    "N = 10\n",
    "    \n",
    "# Generate network topology \n",
    "G = nx.erdos_renyi_graph(N, 0.5)\n",
    "# Assign a peer type to the peers \n",
    "nx.set_node_attributes(G, {k: 'basic' for k in G.nodes()}, 'type')\n",
    "\n",
    "class PeerConfig(Config):\n",
    "    location = Dist('sample', Locations.locations)\n",
    "    bandwidth_ul = Dist( 'norm', (50*MBit, 10*MBit))\n",
    "    bandwidth_dl = Dist( 'norm', (50*MBit, 10*MBit))\n",
    "\n",
    "# Let's add ConnectionManager - that will periodically ping neighbours and check if they are online \n",
    "from p2psimpy.services.connection_manager import BaseConnectionManager\n",
    "# For each service you can define own configuration, or use default values.   \n",
    "# Lets use base connection manager - that will periodically ping peer and disconnect unresponsive peers.\n",
    "\n",
    "services = (BaseConnectionManager,)\n",
    "peer_types = {'basic': PeerType(PeerConfig, services)}\n",
    "\n",
    "# Display the topology \n",
    "nx.draw_networkx(G)"
   ]
  },
  {
   "cell_type": "code",
   "execution_count": 16,
   "metadata": {
    "ExecuteTime": {
     "end_time": "2020-03-27T09:17:44.329539Z",
     "start_time": "2020-03-27T09:17:43.895337Z"
    }
   },
   "outputs": [],
   "source": [
    "from p2psimpy.simulation import BaseSimulation\n",
    "\n",
    "# Create BaseSimulation with enabled logger and save in the logs directory. \n",
    "sim = BaseSimulation(Locations, G, peer_types, enable_logger=True, logger_dir='logs')\n",
    "\n",
    "# Let's run the simulation for 5 seconds\n",
    "sim.run(5_000)"
   ]
  },
  {
   "cell_type": "markdown",
   "metadata": {
    "ExecuteTime": {
     "end_time": "2020-03-17T12:40:15.632268Z",
     "start_time": "2020-03-17T12:40:15.613568Z"
    }
   },
   "source": [
    "----------------------------\n",
    "\n",
    "What's next? There is no output.\n",
    "\n",
    "We run the simulator with logger enabled to see the all the messages exchanged in the network. \n",
    "\n",
    "The output is written to the logs in `\\logs` directory. Let's see what is the output. \n",
    "Each peer writes its own log with events happening like received message, connecting to a peer etc. \n",
    "\n",
    "For example, here is the log of peer 1:"
   ]
  },
  {
   "cell_type": "code",
   "execution_count": 18,
   "metadata": {
    "ExecuteTime": {
     "end_time": "2020-03-27T09:17:44.413024Z",
     "start_time": "2020-03-27T09:17:44.345639Z"
    }
   },
   "outputs": [
    {
     "name": "stdout",
     "output_type": "stream",
     "text": [
      "Peer_1:basic INFO 0.8862913929131176: Received message <Hello:> from Peer_3:basic\n",
      "Peer_1:basic INFO 0.8862913929131176: Connecting to Peer_3:basic\n",
      "Peer_1:basic INFO 0.8862913929131176: Sending message <Hello:> to Peer_3:basic\n",
      "Peer_1:basic INFO 1.0333134035109057: Received message <Hello:> from Peer_6:basic\n",
      "Peer_1:basic INFO 1.0333134035109057: Connecting to Peer_6:basic\n",
      "Peer_1:basic INFO 1.0333134035109057: Sending message <Hello:> to Peer_6:basic\n",
      "Peer_1:basic INFO 4.2683789161908585: Received message <Hello:> from Peer_7:basic\n",
      "Peer_1:basic INFO 4.2683789161908585: Connecting to Peer_7:basic\n",
      "Peer_1:basic INFO 4.2683789161908585: Sending message <Hello:> to Peer_7:basic\n",
      "Peer_1:basic INFO 4.28734524635603: Connecting to Peer_4:basic\n",
      "Peer_1:basic INFO 5.652813454845954: Connecting to Peer_2:basic\n",
      "Peer_1:basic INFO 5.992651793393994: Connecting to Peer_8:basic\n",
      "Peer_1:basic INFO 5.9938655230432385: Received message <Hello:> from Peer_2:basic\n",
      "Peer_1:basic INFO 5.999902205718304: Received message <Hello:> from Peer_4:basic\n",
      "Peer_1:basic INFO 6.316931573158384: Received message <Hello:> from Peer_2:basic\n",
      "Peer_1:basic INFO 6.316931573158384: Connecting to Peer_2:basic\n",
      "Peer_1:basic INFO 6.316931573158384: Sending message <Hello:> to Peer_2:basic\n",
      "Peer_1:basic INFO 6.35459350626808: Connecting to Peer_5:basic\n",
      "Peer_1:basic INFO 6.658568423979418: Received message <Hello:> from Peer_5:basic\n",
      "Peer_1:basic INFO 6.885406105946457: Received message <Hello:> from Peer_8:basic\n",
      "Peer_1:basic INFO 10.921751321085065: Received message <Hello:> from Peer_4:basic\n",
      "Peer_1:basic INFO 11.506021818566875: Received message <Hello:> from Peer_2:basic\n",
      "Peer_1:basic INFO 11.676970135201898: Received message <Hello:> from Peer_8:basic\n",
      "Peer_1:basic INFO 12.857649143259895: Received message <Hello:> from Peer_5:basic\n",
      "Peer_1:basic INFO 1000: Sending message <Ping:> to Peer_3:basic\n",
      "Peer_1:basic INFO 1000: Sending message <Ping:> to Peer_6:basic\n",
      "Peer_1:basic INFO 1000: Sending message <Ping:> to Peer_7:basic\n",
      "Peer_1:basic INFO 1000: Sending message <Ping:> to Peer_4:basic\n",
      "Peer_1:basic INFO 1000: Sending message <Ping:> to Peer_2:basic\n",
      "Peer_1:basic INFO 1000: Sending message <Ping:> to Peer_8:basic\n",
      "Peer_1:basic INFO 1000: Sending message <Ping:> to Peer_2:basic\n",
      "Peer_1:basic INFO 1000: Sending message <Ping:> to Peer_5:basic\n",
      "Peer_1:basic INFO 1000.646446691925: Received message <Ping:> from Peer_6:basic\n",
      "Peer_1:basic INFO 1000.646446691925: Sending message <Pong:> to Peer_6:basic\n",
      "Peer_1:basic INFO 1001.2968083925783: Received message <Ping:> from Peer_3:basic\n",
      "Peer_1:basic INFO 1001.2968083925783: Sending message <Pong:> to Peer_3:basic\n",
      "Peer_1:basic INFO 1001.3876304574028: Received message <Pong:> from Peer_6:basic\n",
      "Peer_1:basic INFO 1001.9368911026708: Received message <Pong:> from Peer_3:basic\n",
      "Peer_1:basic INFO 1003.2796228235972: Received message <Ping:> from Peer_7:basic\n",
      "Peer_1:basic INFO 1003.2796228235972: Sending message <Pong:> to Peer_7:basic\n",
      "Peer_1:basic INFO 1004.3959879162173: Received message <Ping:> from Peer_8:basic\n",
      "Peer_1:basic INFO 1004.3959879162173: Sending message <Pong:> to Peer_8:basic\n",
      "Peer_1:basic INFO 1004.6584079889027: Received message <Ping:> from Peer_2:basic\n",
      "Peer_1:basic INFO 1004.6584079889027: Sending message <Pong:> to Peer_2:basic\n",
      "Peer_1:basic INFO 1005.5456646021537: Received message <Ping:> from Peer_5:basic\n",
      "Peer_1:basic INFO 1005.5456646021537: Sending message <Pong:> to Peer_5:basic\n",
      "Peer_1:basic INFO 1005.7742283051792: Received message <Ping:> from Peer_2:basic\n",
      "Peer_1:basic INFO 1005.7742283051792: Sending message <Pong:> to Peer_2:basic\n",
      "Peer_1:basic INFO 1006.8692394378405: Received message <Ping:> from Peer_4:basic\n",
      "Peer_1:basic INFO 1006.8692394378405: Sending message <Pong:> to Peer_4:basic\n",
      "Peer_1:basic INFO 1009.9216241909514: Received message <Pong:> from Peer_2:basic\n",
      "Peer_1:basic INFO 1011.0811963802771: Received message <Pong:> from Peer_2:basic\n",
      "Peer_1:basic INFO 1011.6169469891126: Received message <Pong:> from Peer_4:basic\n",
      "Peer_1:basic INFO 1012.0985989980044: Received message <Pong:> from Peer_8:basic\n",
      "Peer_1:basic INFO 1012.1620064544286: Received message <Pong:> from Peer_5:basic\n",
      "Peer_1:basic INFO 1015.6033652445163: Received message <Pong:> from Peer_7:basic\n",
      "Peer_1:basic INFO 2000: Sending message <Ping:> to Peer_3:basic\n",
      "Peer_1:basic INFO 2000: Sending message <Ping:> to Peer_6:basic\n",
      "Peer_1:basic INFO 2000: Sending message <Ping:> to Peer_7:basic\n",
      "Peer_1:basic INFO 2000: Sending message <Ping:> to Peer_4:basic\n",
      "Peer_1:basic INFO 2000: Sending message <Ping:> to Peer_2:basic\n",
      "Peer_1:basic INFO 2000: Sending message <Ping:> to Peer_8:basic\n",
      "Peer_1:basic INFO 2000: Sending message <Ping:> to Peer_2:basic\n",
      "Peer_1:basic INFO 2000: Sending message <Ping:> to Peer_5:basic\n",
      "Peer_1:basic INFO 2000.8239033407835: Received message <Ping:> from Peer_3:basic\n",
      "Peer_1:basic INFO 2000.8239033407835: Sending message <Pong:> to Peer_3:basic\n",
      "Peer_1:basic INFO 2001.0056576171105: Received message <Ping:> from Peer_6:basic\n",
      "Peer_1:basic INFO 2001.0056576171105: Sending message <Pong:> to Peer_6:basic\n",
      "Peer_1:basic INFO 2002.0363641322842: Received message <Pong:> from Peer_3:basic\n",
      "Peer_1:basic INFO 2002.2689255516004: Received message <Pong:> from Peer_6:basic\n",
      "Peer_1:basic INFO 2004.374307806401: Received message <Ping:> from Peer_2:basic\n",
      "Peer_1:basic INFO 2004.374307806401: Sending message <Pong:> to Peer_2:basic\n",
      "Peer_1:basic INFO 2005.8606395725117: Received message <Ping:> from Peer_5:basic\n",
      "Peer_1:basic INFO 2005.8606395725117: Sending message <Pong:> to Peer_5:basic\n",
      "Peer_1:basic INFO 2005.984141292895: Received message <Ping:> from Peer_2:basic\n",
      "Peer_1:basic INFO 2005.984141292895: Sending message <Pong:> to Peer_2:basic\n",
      "Peer_1:basic INFO 2006.144226997172: Received message <Ping:> from Peer_8:basic\n",
      "Peer_1:basic INFO 2006.144226997172: Sending message <Pong:> to Peer_8:basic\n",
      "Peer_1:basic INFO 2006.9787921393436: Received message <Ping:> from Peer_4:basic\n",
      "Peer_1:basic INFO 2006.9787921393436: Sending message <Pong:> to Peer_4:basic\n",
      "Peer_1:basic INFO 2007.2244311642944: Received message <Ping:> from Peer_7:basic\n",
      "Peer_1:basic INFO 2007.2244311642944: Sending message <Pong:> to Peer_7:basic\n",
      "Peer_1:basic INFO 2011.0048400811213: Received message <Pong:> from Peer_8:basic\n",
      "Peer_1:basic INFO 2011.7846574659727: Received message <Pong:> from Peer_4:basic\n",
      "Peer_1:basic INFO 2011.819160739226: Received message <Pong:> from Peer_5:basic\n",
      "Peer_1:basic INFO 2012.309554154: Received message <Pong:> from Peer_2:basic\n",
      "Peer_1:basic INFO 2012.7584323298927: Received message <Pong:> from Peer_2:basic\n",
      "Peer_1:basic INFO 2013.4042989639775: Received message <Pong:> from Peer_7:basic\n",
      "Peer_1:basic INFO 3000: Sending message <Ping:> to Peer_3:basic\n",
      "Peer_1:basic INFO 3000: Sending message <Ping:> to Peer_6:basic\n",
      "Peer_1:basic INFO 3000: Sending message <Ping:> to Peer_7:basic\n",
      "Peer_1:basic INFO 3000: Sending message <Ping:> to Peer_4:basic\n",
      "Peer_1:basic INFO 3000: Sending message <Ping:> to Peer_2:basic\n",
      "Peer_1:basic INFO 3000: Sending message <Ping:> to Peer_8:basic\n",
      "Peer_1:basic INFO 3000: Sending message <Ping:> to Peer_2:basic\n",
      "Peer_1:basic INFO 3000: Sending message <Ping:> to Peer_5:basic\n",
      "Peer_1:basic INFO 3000.8088831499995: Received message <Ping:> from Peer_6:basic\n",
      "Peer_1:basic INFO 3000.8088831499995: Sending message <Pong:> to Peer_6:basic\n",
      "Peer_1:basic INFO 3001.0916753951865: Received message <Ping:> from Peer_3:basic\n",
      "Peer_1:basic INFO 3001.0916753951865: Sending message <Pong:> to Peer_3:basic\n",
      "Peer_1:basic INFO 3001.6199268167265: Received message <Pong:> from Peer_6:basic\n",
      "Peer_1:basic INFO 3002.226937154219: Received message <Pong:> from Peer_3:basic\n",
      "Peer_1:basic INFO 3003.879641352561: Received message <Ping:> from Peer_7:basic\n",
      "Peer_1:basic INFO 3003.879641352561: Sending message <Pong:> to Peer_7:basic\n",
      "Peer_1:basic INFO 3004.104241827573: Received message <Ping:> from Peer_8:basic\n",
      "Peer_1:basic INFO 3004.104241827573: Sending message <Pong:> to Peer_8:basic\n",
      "Peer_1:basic INFO 3005.581630722286: Received message <Ping:> from Peer_4:basic\n",
      "Peer_1:basic INFO 3005.581630722286: Sending message <Pong:> to Peer_4:basic\n",
      "Peer_1:basic INFO 3005.8020833498617: Received message <Ping:> from Peer_2:basic\n",
      "Peer_1:basic INFO 3005.8020833498617: Sending message <Pong:> to Peer_2:basic\n",
      "Peer_1:basic INFO 3006.5348606805705: Received message <Ping:> from Peer_5:basic\n",
      "Peer_1:basic INFO 3006.5348606805705: Sending message <Pong:> to Peer_5:basic\n",
      "Peer_1:basic INFO 3006.789256362015: Received message <Ping:> from Peer_2:basic\n",
      "Peer_1:basic INFO 3006.789256362015: Sending message <Pong:> to Peer_2:basic\n",
      "Peer_1:basic INFO 3009.865526833087: Received message <Pong:> from Peer_8:basic\n",
      "Peer_1:basic INFO 3010.243242283029: Received message <Pong:> from Peer_2:basic\n",
      "Peer_1:basic INFO 3013.961372780868: Received message <Pong:> from Peer_4:basic\n",
      "Peer_1:basic INFO 3014.127992687574: Received message <Pong:> from Peer_5:basic\n",
      "Peer_1:basic INFO 3014.2604886100103: Received message <Pong:> from Peer_7:basic\n",
      "Peer_1:basic INFO 3014.391940296643: Received message <Pong:> from Peer_2:basic\n",
      "Peer_1:basic INFO 4000: Sending message <Ping:> to Peer_3:basic\n",
      "Peer_1:basic INFO 4000: Sending message <Ping:> to Peer_6:basic\n",
      "Peer_1:basic INFO 4000: Sending message <Ping:> to Peer_7:basic\n",
      "Peer_1:basic INFO 4000: Sending message <Ping:> to Peer_4:basic\n",
      "Peer_1:basic INFO 4000: Sending message <Ping:> to Peer_2:basic\n",
      "Peer_1:basic INFO 4000: Sending message <Ping:> to Peer_8:basic\n",
      "Peer_1:basic INFO 4000: Sending message <Ping:> to Peer_2:basic\n",
      "Peer_1:basic INFO 4000: Sending message <Ping:> to Peer_5:basic\n",
      "Peer_1:basic INFO 4000.527564463828: Received message <Ping:> from Peer_6:basic\n",
      "Peer_1:basic INFO 4000.527564463828: Sending message <Pong:> to Peer_6:basic\n",
      "Peer_1:basic INFO 4001.1963830446734: Received message <Ping:> from Peer_3:basic\n",
      "Peer_1:basic INFO 4001.1963830446734: Sending message <Pong:> to Peer_3:basic\n",
      "Peer_1:basic INFO 4002.1698901822137: Received message <Pong:> from Peer_3:basic\n",
      "Peer_1:basic INFO 4002.3103749763345: Received message <Pong:> from Peer_6:basic\n",
      "Peer_1:basic INFO 4005.0985256251493: Received message <Ping:> from Peer_4:basic\n",
      "Peer_1:basic INFO 4005.0985256251493: Sending message <Pong:> to Peer_4:basic\n",
      "Peer_1:basic INFO 4005.1707753863684: Received message <Ping:> from Peer_2:basic\n",
      "Peer_1:basic INFO 4005.1707753863684: Sending message <Pong:> to Peer_2:basic\n",
      "Peer_1:basic INFO 4005.49402761394: Received message <Ping:> from Peer_8:basic\n",
      "Peer_1:basic INFO 4005.49402761394: Sending message <Pong:> to Peer_8:basic\n",
      "Peer_1:basic INFO 4006.1048461251944: Received message <Ping:> from Peer_2:basic\n",
      "Peer_1:basic INFO 4006.1048461251944: Sending message <Pong:> to Peer_2:basic\n",
      "Peer_1:basic INFO 4006.1520267983983: Received message <Ping:> from Peer_5:basic\n",
      "Peer_1:basic INFO 4006.1520267983983: Sending message <Pong:> to Peer_5:basic\n",
      "Peer_1:basic INFO 4006.1710404450723: Received message <Ping:> from Peer_7:basic\n",
      "Peer_1:basic INFO 4006.1710404450723: Sending message <Pong:> to Peer_7:basic\n",
      "Peer_1:basic INFO 4010.5788180466197: Received message <Pong:> from Peer_7:basic\n",
      "Peer_1:basic INFO 4010.8126834077866: Received message <Pong:> from Peer_2:basic\n",
      "Peer_1:basic INFO 4012.7395697344296: Received message <Pong:> from Peer_8:basic\n",
      "Peer_1:basic INFO 4013.511774829256: Received message <Pong:> from Peer_2:basic\n",
      "Peer_1:basic INFO 4013.5546280029453: Received message <Pong:> from Peer_4:basic\n",
      "Peer_1:basic INFO 4014.0121028412323: Received message <Pong:> from Peer_5:basic\n",
      "\n"
     ]
    }
   ],
   "source": [
    "with open('logs/Peer_1:basic.log') as s:\n",
    "    print(s.read())"
   ]
  },
  {
   "cell_type": "markdown",
   "metadata": {},
   "source": [
    "## Emergent topology\n",
    "\n",
    "Now let's try an emergent topology, we will use the same configuration, but use bootstrap peer for discovery and building a network. For the connection manager we will use `P2PConnectionManager`.  \n"
   ]
  },
  {
   "cell_type": "code",
   "execution_count": 19,
   "metadata": {
    "ExecuteTime": {
     "end_time": "2020-03-27T09:17:44.430653Z",
     "start_time": "2020-03-27T09:17:44.415134Z"
    }
   },
   "outputs": [],
   "source": [
    "from p2psimpy.services.connection_manager import P2PConnectionManager\n",
    "\n",
    "num_peers = 10\n",
    "\n",
    "topology_specs = {i:{'type': 'basic'} for i in range(1, num_peers+1)}\n",
    "\n",
    "class ConnectionConfig(Config):\n",
    "    min_peers = 4\n",
    "    max_peers = 8\n",
    "\n",
    "peer_types = {'basic': PeerType(PeerConfig, {P2PConnectionManager: ConnectionConfig})}\n"
   ]
  },
  {
   "cell_type": "code",
   "execution_count": 20,
   "metadata": {
    "ExecuteTime": {
     "end_time": "2020-03-27T09:17:44.729428Z",
     "start_time": "2020-03-27T09:17:44.442513Z"
    }
   },
   "outputs": [],
   "source": [
    "sim = BaseSimulation(Locations, topology_specs, peer_types, logger_dir='logs2')\n",
    "\n",
    "# Let's run the simulation for 5 seconds\n",
    "sim.run(5_000)"
   ]
  },
  {
   "cell_type": "markdown",
   "metadata": {},
   "source": [
    "#### The peers form themselves a random topology"
   ]
  },
  {
   "cell_type": "code",
   "execution_count": 21,
   "metadata": {
    "ExecuteTime": {
     "end_time": "2020-03-27T09:17:46.596898Z",
     "start_time": "2020-03-27T09:17:44.765123Z"
    }
   },
   "outputs": [
    {
     "data": {
      "image/png": "[encoded data removed]",
      "text/plain": [
       "<Figure size 432x288 with 1 Axes>"
      ]
     },
     "metadata": {},
     "output_type": "display_data"
    }
   ],
   "source": [
    "G1 = sim.get_graph()\n",
    "nx.draw_networkx(G1)"
   ]
  },
  {
   "cell_type": "code",
   "execution_count": 23,
   "metadata": {
    "ExecuteTime": {
     "end_time": "2020-03-27T09:17:46.609528Z",
     "start_time": "2020-03-27T09:17:46.600756Z"
    }
   },
   "outputs": [
    {
     "name": "stdout",
     "output_type": "stream",
     "text": [
      "Peer_1:basic WARNING 0: Not enough peers, fetching more (0, 4)\n",
      "Peer_1:basic INFO 4.79840749256581: Connecting to Peer_11:bootstrap\n",
      "Peer_1:basic INFO 9.099770591816075: Received message <RequestPeers:> from Peer_11:bootstrap\n",
      "Peer_1:basic INFO 9.099770591816075: Sending message <PeerList> to Peer_11:bootstrap\n",
      "Peer_1:basic INFO 10.663960001875994: Received message <Hello:> from Peer_11:bootstrap\n",
      "Peer_1:basic WARNING 500: Not enough peers, fetching more (1, 4)\n",
      "Peer_1:basic INFO 500: Sending message <RequestPeers:> to Peer_11:bootstrap\n",
      "Peer_1:basic INFO 514.2765361823131: Received message <PeerList> from Peer_11:bootstrap\n",
      "Peer_1:basic WARNING 1000: Not enough peers, fetching more (1, 4)\n",
      "Peer_1:basic INFO 1000: Sending message <RequestPeers:> to Peer_11:bootstrap\n",
      "Peer_1:basic INFO 1000.5942508796385: Connecting to Peer_9:basic\n",
      "Peer_1:basic INFO 1001.2055243658909: Received message <RequestPeers:> from Peer_9:basic\n",
      "Peer_1:basic INFO 1001.2055243658909: Sending message <PeerList> to Peer_9:basic\n",
      "Peer_1:basic INFO 1001.3140903781808: Received message <Hello:> from Peer_9:basic\n",
      "Peer_1:basic INFO 1006.1465005012072: Received message <RequestPeers:> from Peer_11:bootstrap\n",
      "Peer_1:basic INFO 1006.1465005012072: Sending message <PeerList> to Peer_11:bootstrap\n",
      "Peer_1:basic INFO 1006.9419773565252: Received message <Hello:> from Peer_8:basic\n",
      "Peer_1:basic INFO 1006.9419773565252: Connecting to Peer_8:basic\n",
      "Peer_1:basic INFO 1006.9419773565252: Sending message <Hello:> to Peer_8:basic\n",
      "Peer_1:basic INFO 1006.9419773565252: Sending message <RequestPeers:> to Peer_8:basic\n",
      "Peer_1:basic INFO 1009.9406298537812: Received message <PeerList> from Peer_11:bootstrap\n",
      "Peer_1:basic INFO 1015.339226726989: Received message <PeerList> from Peer_8:basic\n",
      "Peer_1:basic WARNING 1500: Not enough peers, fetching more (3, 4)\n",
      "Peer_1:basic INFO 1501.0848541859816: Received message <Hello:> from Peer_3:basic\n",
      "Peer_1:basic INFO 1501.0848541859816: Connecting to Peer_3:basic\n",
      "Peer_1:basic INFO 1501.0848541859816: Sending message <Hello:> to Peer_3:basic\n",
      "Peer_1:basic INFO 1501.0848541859816: Sending message <RequestPeers:> to Peer_3:basic\n",
      "Peer_1:basic INFO 1501.6102137985247: Received message <RequestPeers:> from Peer_9:basic\n",
      "Peer_1:basic INFO 1501.6102137985247: Sending message <PeerList> to Peer_9:basic\n",
      "Peer_1:basic INFO 1501.759712377645: Connecting to Peer_6:basic\n",
      "Peer_1:basic INFO 1502.6348936945085: Received message <Hello:> from Peer_6:basic\n",
      "Peer_1:basic INFO 1503.457913011595: Received message <RequestPeers:> from Peer_6:basic\n",
      "Peer_1:basic INFO 1503.457913011595: Sending message <PeerList> to Peer_6:basic\n",
      "Peer_1:basic INFO 1504.1295578367065: Received message <PeerList> from Peer_3:basic\n",
      "Peer_1:basic INFO 1505.5595801284146: Received message <RequestPeers:> from Peer_11:bootstrap\n",
      "Peer_1:basic INFO 1505.5595801284146: Sending message <PeerList> to Peer_11:bootstrap\n",
      "Peer_1:basic INFO 2000: Sending message <Ping:> to Peer_8:basic\n",
      "Peer_1:basic INFO 2007.8089535179: Received message <Ping:> from Peer_8:basic\n",
      "Peer_1:basic INFO 2007.8089535179: Sending message <Pong:> to Peer_8:basic\n",
      "Peer_1:basic INFO 2011.9259351212243: Received message <Pong:> from Peer_8:basic\n",
      "Peer_1:basic INFO 2500: Sending message <Ping:> to Peer_11:bootstrap\n",
      "Peer_1:basic INFO 2500: Sending message <Ping:> to Peer_9:basic\n",
      "Peer_1:basic INFO 2500: Sending message <Ping:> to Peer_3:basic\n",
      "Peer_1:basic INFO 2500: Sending message <Ping:> to Peer_6:basic\n",
      "Peer_1:basic INFO 2500.589678835862: Received message <Ping:> from Peer_9:basic\n",
      "Peer_1:basic INFO 2500.589678835862: Sending message <Pong:> to Peer_9:basic\n",
      "Peer_1:basic INFO 2500.7681863723274: Received message <Ping:> from Peer_6:basic\n",
      "Peer_1:basic INFO 2500.7681863723274: Sending message <Pong:> to Peer_6:basic\n",
      "Peer_1:basic INFO 2500.913267491195: Received message <Ping:> from Peer_3:basic\n",
      "Peer_1:basic INFO 2500.913267491195: Sending message <Pong:> to Peer_3:basic\n",
      "Peer_1:basic INFO 2501.304690359309: Received message <Pong:> from Peer_9:basic\n",
      "Peer_1:basic INFO 2501.7225477594325: Received message <Pong:> from Peer_3:basic\n",
      "Peer_1:basic INFO 2503.1490408130676: Received message <Pong:> from Peer_6:basic\n",
      "Peer_1:basic INFO 2505.956527905076: Received message <Ping:> from Peer_11:bootstrap\n",
      "Peer_1:basic INFO 2505.956527905076: Sending message <Pong:> to Peer_11:bootstrap\n",
      "Peer_1:basic INFO 2506.5315284761014: Received message <RequestPeers:> from Peer_11:bootstrap\n",
      "Peer_1:basic INFO 2506.5315284761014: Sending message <PeerList> to Peer_11:bootstrap\n",
      "Peer_1:basic INFO 2510.4949382324903: Received message <Pong:> from Peer_11:bootstrap\n",
      "Peer_1:basic INFO 3000: Sending message <Ping:> to Peer_8:basic\n",
      "Peer_1:basic INFO 3006.39417340933: Received message <Ping:> from Peer_8:basic\n",
      "Peer_1:basic INFO 3006.39417340933: Sending message <Pong:> to Peer_8:basic\n",
      "Peer_1:basic INFO 3008.136527971467: Received message <RequestPeers:> from Peer_11:bootstrap\n",
      "Peer_1:basic INFO 3008.136527971467: Sending message <PeerList> to Peer_11:bootstrap\n",
      "Peer_1:basic INFO 3013.46359012461: Received message <Pong:> from Peer_8:basic\n",
      "Peer_1:basic INFO 3500: Sending message <Ping:> to Peer_9:basic\n",
      "Peer_1:basic INFO 3500: Sending message <Ping:> to Peer_3:basic\n",
      "Peer_1:basic INFO 3500: Sending message <Ping:> to Peer_6:basic\n",
      "Peer_1:basic INFO 3500.672702448418: Received message <Ping:> from Peer_6:basic\n",
      "Peer_1:basic INFO 3500.672702448418: Sending message <Pong:> to Peer_6:basic\n",
      "Peer_1:basic INFO 3500.8587859577224: Received message <Ping:> from Peer_3:basic\n",
      "Peer_1:basic INFO 3500.8587859577224: Sending message <Pong:> to Peer_3:basic\n",
      "Peer_1:basic INFO 3501.000935619606: Received message <Ping:> from Peer_9:basic\n",
      "Peer_1:basic INFO 3501.000935619606: Sending message <Pong:> to Peer_9:basic\n",
      "Peer_1:basic INFO 3501.444747260353: Received message <Pong:> from Peer_6:basic\n",
      "Peer_1:basic INFO 3501.594748638458: Received message <Pong:> from Peer_9:basic\n",
      "Peer_1:basic INFO 3503.8424086376854: Received message <Pong:> from Peer_3:basic\n",
      "Peer_1:basic INFO 4000: Sending message <Ping:> to Peer_11:bootstrap\n",
      "Peer_1:basic INFO 4000: Sending message <Ping:> to Peer_8:basic\n",
      "Peer_1:basic INFO 4005.664571635433: Received message <Ping:> from Peer_8:basic\n",
      "Peer_1:basic INFO 4005.664571635433: Sending message <Pong:> to Peer_8:basic\n",
      "Peer_1:basic INFO 4006.3179780266: Received message <RequestPeers:> from Peer_11:bootstrap\n",
      "Peer_1:basic INFO 4006.3179780266: Sending message <PeerList> to Peer_11:bootstrap\n",
      "Peer_1:basic INFO 4007.2454262882447: Received message <Ping:> from Peer_11:bootstrap\n",
      "Peer_1:basic INFO 4007.2454262882447: Sending message <Pong:> to Peer_11:bootstrap\n",
      "Peer_1:basic INFO 4011.815037220708: Received message <Pong:> from Peer_8:basic\n",
      "Peer_1:basic INFO 4015.5370411409367: Received message <Pong:> from Peer_11:bootstrap\n",
      "Peer_1:basic INFO 4500: Sending message <Ping:> to Peer_9:basic\n",
      "Peer_1:basic INFO 4500: Sending message <Ping:> to Peer_3:basic\n",
      "Peer_1:basic INFO 4500: Sending message <Ping:> to Peer_6:basic\n",
      "Peer_1:basic INFO 4500.7641181574445: Received message <Ping:> from Peer_6:basic\n",
      "Peer_1:basic INFO 4500.7641181574445: Sending message <Pong:> to Peer_6:basic\n",
      "Peer_1:basic INFO 4500.765103708567: Received message <Ping:> from Peer_3:basic\n",
      "Peer_1:basic INFO 4500.765103708567: Sending message <Pong:> to Peer_3:basic\n",
      "Peer_1:basic INFO 4500.898821043252: Received message <Ping:> from Peer_9:basic\n",
      "Peer_1:basic INFO 4500.898821043252: Sending message <Pong:> to Peer_9:basic\n",
      "Peer_1:basic INFO 4501.492394732213: Received message <Pong:> from Peer_3:basic\n",
      "Peer_1:basic INFO 4501.594950490292: Received message <Pong:> from Peer_9:basic\n",
      "Peer_1:basic INFO 4501.783293236123: Received message <Pong:> from Peer_6:basic\n",
      "Peer_1:basic INFO 4505.320325692683: Received message <RequestPeers:> from Peer_11:bootstrap\n",
      "Peer_1:basic INFO 4505.320325692683: Sending message <PeerList> to Peer_11:bootstrap\n",
      "\n"
     ]
    }
   ],
   "source": [
    "with open('logs2/Peer_1:basic.log') as s:\n",
    "    print(s.read())"
   ]
  },
  {
   "cell_type": "code",
   "execution_count": null,
   "metadata": {},
   "outputs": [],
   "source": []
  },
  {
   "cell_type": "markdown",
   "metadata": {},
   "source": [
    "------------------\n",
    "\n",
    "Now you get how to work a simulation, in the next notebook we will take a look into services and implement our own.  \n"
   ]
  },
  {
   "cell_type": "markdown",
   "metadata": {},
   "source": [
    "## Your experiments here \n",
    "\n",
    "\n",
    "1. Change the latency between the locations and look at the logs.  \n",
    "2. Change the rules for the discovery\n",
    "\n"
   ]
  },
  {
   "cell_type": "code",
   "execution_count": 48,
   "metadata": {},
   "outputs": [
    {
     "name": "stdout",
     "output_type": "stream",
     "text": [
      "Peer_1:basic WARNING 0: Not enough peers, fetching more (0, 3)\n",
      "Peer_1:basic INFO 49.14584054832794: Connecting to Peer_11:bootstrap\n",
      "Peer_1:basic INFO 98.28972324728569: Received message <RequestPeers:> from Peer_11:bootstrap\n",
      "Peer_1:basic INFO 98.28972324728569: Sending message <PeerList> to Peer_11:bootstrap\n",
      "Peer_1:basic INFO 98.88809868259293: Received message <Hello:> from Peer_11:bootstrap\n",
      "Peer_1:basic WARNING 500: Not enough peers, fetching more (1, 3)\n",
      "Peer_1:basic INFO 500: Sending message <RequestPeers:> to Peer_11:bootstrap\n",
      "Peer_1:basic INFO 600.0896648123888: Received message <PeerList> from Peer_11:bootstrap\n",
      "Peer_1:basic WARNING 1000: Not enough peers, fetching more (1, 3)\n",
      "Peer_1:basic INFO 1000: Sending message <RequestPeers:> to Peer_11:bootstrap\n",
      "Peer_1:basic INFO 1002.278961763113: Connecting to Peer_5:basic\n",
      "Peer_1:basic INFO 1002.8375918211461: Received message <RequestPeers:> from Peer_5:basic\n",
      "Peer_1:basic INFO 1002.8375918211461: Sending message <PeerList> to Peer_5:basic\n",
      "Peer_1:basic INFO 1002.8515636193551: Received message <Hello:> from Peer_5:basic\n",
      "Peer_1:basic INFO 1048.1495832681398: Received message <Hello:> from Peer_10:basic\n",
      "Peer_1:basic INFO 1048.1495832681398: Connecting to Peer_10:basic\n",
      "Peer_1:basic INFO 1048.1495832681398: Sending message <Hello:> to Peer_10:basic\n",
      "Peer_1:basic INFO 1048.1495832681398: Sending message <RequestPeers:> to Peer_10:basic\n",
      "Peer_1:basic INFO 1098.50213994093: Received message <PeerList> from Peer_11:bootstrap\n",
      "Peer_1:basic INFO 1147.9673943572216: Received message <PeerList> from Peer_10:basic\n",
      "Peer_1:basic INFO 1501.9693328266437: Received message <Hello:> from Peer_6:basic\n",
      "Peer_1:basic INFO 1501.9693328266437: Connecting to Peer_6:basic\n",
      "Peer_1:basic INFO 1501.9693328266437: Sending message <Hello:> to Peer_6:basic\n",
      "Peer_1:basic INFO 1501.9693328266437: Sending message <RequestPeers:> to Peer_6:basic\n",
      "Peer_1:basic INFO 1503.5962868190206: Received message <PeerList> from Peer_6:basic\n",
      "Peer_1:basic INFO 1550.6519996669865: Received message <RequestPeers:> from Peer_11:bootstrap\n",
      "Peer_1:basic INFO 1550.6519996669865: Sending message <PeerList> to Peer_11:bootstrap\n",
      "Peer_1:basic INFO 2000: Sending message <Ping:> to Peer_5:basic\n",
      "Peer_1:basic INFO 2000: Sending message <Ping:> to Peer_10:basic\n",
      "Peer_1:basic INFO 2000.7450835462855: Received message <Ping:> from Peer_5:basic\n",
      "Peer_1:basic INFO 2000.7450835462855: Sending message <Pong:> to Peer_5:basic\n",
      "Peer_1:basic INFO 2001.6561939229866: Received message <Pong:> from Peer_5:basic\n",
      "Peer_1:basic INFO 2050.4866641866315: Received message <Ping:> from Peer_10:basic\n",
      "Peer_1:basic INFO 2050.4866641866315: Sending message <Pong:> to Peer_10:basic\n",
      "Peer_1:basic INFO 2051.0322852101813: Received message <RequestPeers:> from Peer_11:bootstrap\n",
      "Peer_1:basic INFO 2051.0322852101813: Sending message <PeerList> to Peer_11:bootstrap\n",
      "Peer_1:basic INFO 2101.153561621704: Received message <Pong:> from Peer_10:basic\n",
      "Peer_1:basic INFO 2500: Sending message <Ping:> to Peer_6:basic\n",
      "Peer_1:basic INFO 2501.08261512322: Received message <Ping:> from Peer_6:basic\n",
      "Peer_1:basic INFO 2501.08261512322: Sending message <Pong:> to Peer_6:basic\n",
      "Peer_1:basic INFO 2501.5107237203774: Received message <Pong:> from Peer_6:basic\n",
      "Peer_1:basic INFO 3000: Sending message <Ping:> to Peer_11:bootstrap\n",
      "Peer_1:basic INFO 3000: Sending message <Ping:> to Peer_5:basic\n",
      "Peer_1:basic INFO 3000: Sending message <Ping:> to Peer_10:basic\n",
      "Peer_1:basic INFO 3001.2264459545027: Received message <Ping:> from Peer_5:basic\n",
      "Peer_1:basic INFO 3001.2264459545027: Sending message <Pong:> to Peer_5:basic\n",
      "Peer_1:basic INFO 3002.8957445990727: Received message <Pong:> from Peer_5:basic\n",
      "Peer_1:basic INFO 3049.082601192749: Received message <Ping:> from Peer_10:basic\n",
      "Peer_1:basic INFO 3049.082601192749: Sending message <Pong:> to Peer_10:basic\n",
      "Peer_1:basic INFO 3050.4439063601335: Received message <Ping:> from Peer_11:bootstrap\n",
      "Peer_1:basic INFO 3050.4439063601335: Sending message <Pong:> to Peer_11:bootstrap\n",
      "Peer_1:basic INFO 3100.5434662507746: Received message <Pong:> from Peer_11:bootstrap\n",
      "Peer_1:basic INFO 3101.016516034917: Received message <Pong:> from Peer_10:basic\n",
      "Peer_1:basic INFO 3500: Sending message <Ping:> to Peer_6:basic\n",
      "Peer_1:basic INFO 3500.56544508558: Received message <Ping:> from Peer_6:basic\n",
      "Peer_1:basic INFO 3500.56544508558: Sending message <Pong:> to Peer_6:basic\n",
      "Peer_1:basic INFO 3504.9006953967482: Received message <Pong:> from Peer_6:basic\n",
      "Peer_1:basic INFO 4000: Sending message <Ping:> to Peer_11:bootstrap\n",
      "Peer_1:basic INFO 4000: Sending message <Ping:> to Peer_5:basic\n",
      "Peer_1:basic INFO 4000: Sending message <Ping:> to Peer_10:basic\n",
      "Peer_1:basic INFO 4001.545867529541: Received message <Ping:> from Peer_5:basic\n",
      "Peer_1:basic INFO 4001.545867529541: Sending message <Pong:> to Peer_5:basic\n",
      "Peer_1:basic INFO 4002.650985555868: Received message <Pong:> from Peer_5:basic\n",
      "Peer_1:basic INFO 4049.2976112525885: Received message <Ping:> from Peer_11:bootstrap\n",
      "Peer_1:basic INFO 4049.2976112525885: Sending message <Pong:> to Peer_11:bootstrap\n",
      "Peer_1:basic INFO 4049.741263183549: Received message <Ping:> from Peer_10:basic\n",
      "Peer_1:basic INFO 4049.741263183549: Sending message <Pong:> to Peer_10:basic\n",
      "Peer_1:basic INFO 4097.938207840606: Received message <Pong:> from Peer_10:basic\n",
      "Peer_1:basic INFO 4101.945570104074: Received message <Pong:> from Peer_11:bootstrap\n",
      "Peer_1:basic INFO 4500: Sending message <Ping:> to Peer_6:basic\n",
      "Peer_1:basic INFO 4501.75061465242: Received message <Pong:> from Peer_6:basic\n",
      "Peer_1:basic INFO 4502.603959620947: Received message <Ping:> from Peer_6:basic\n",
      "Peer_1:basic INFO 4502.603959620947: Sending message <Pong:> to Peer_6:basic\n",
      "Peer_1:basic INFO 4550.321383036464: Received message <RequestPeers:> from Peer_11:bootstrap\n",
      "Peer_1:basic INFO 4550.321383036464: Sending message <PeerList> to Peer_11:bootstrap\n",
      "\n"
     ]
    },
    {
     "data": {
      "image/png": "[encoded data removed]",
      "text/plain": [
       "<Figure size 576x576 with 4 Axes>"
      ]
     },
     "metadata": {},
     "output_type": "display_data"
    }
   ],
   "source": [
    "from p2psimpy.config import *\n",
    "from p2psimpy.consts import *\n",
    "import networkx as nx\n",
    "\n",
    "class Locations(Config):\n",
    "    locations = ['LocA', 'LocB']\n",
    "    latencies = {\n",
    "        'LocB': {'LocB': Dist('gamma', (1, 1, 1))},\n",
    "        'LocA': {'LocB': Dist('norm', (100, 2)), 'LocA': Dist('norm', (2, 0.5))},\n",
    "    } \n",
    "\n",
    "import matplotlib.pyplot as plt\n",
    "import seaborn as sns\n",
    "sns.set(style='darkgrid')\n",
    "\n",
    "# 1. Data prepare\n",
    "def prepare(x):\n",
    "    x = pd.DataFrame(x)\n",
    "    x[pd.isnull(x)] = x.T[pd.isnull(x)]\n",
    "    return x.stack().reset_index()\\\n",
    "                    .rename(columns={'level_0':'from', 'level_1':'to', 0: 'value'})\n",
    "                    \n",
    "# 2. Get 100 samples\n",
    "df = pd.concat(prepare(Locations.get()['latencies']) for _ in range(100))\n",
    "\n",
    "# 3. Visualize in a grid of histograms\n",
    "g = sns.FacetGrid(df, col='to', row='from', height=4, aspect=1)\n",
    "g = g.map(sns.distplot, 'value')\n",
    "    \n",
    "\n",
    "    \n",
    "# Assign a peer type to the peers \n",
    "class PeerConfig(Config):\n",
    "    location = Dist('sample', Locations.locations)\n",
    "    bandwidth_ul = Dist( 'norm', (50*MBit, 10*MBit))\n",
    "    bandwidth_dl = Dist( 'norm', (50*MBit, 10*MBit))\n",
    "\n",
    "num_peers = 10 \n",
    "\n",
    "class ConnectionConfig(Config):\n",
    "    min_peers = 3\n",
    "    max_peers = 6\n",
    "\n",
    "from p2psimpy.services.connection_manager import P2PConnectionManager\n",
    "peer_types = {'basic': PeerType(PeerConfig, {P2PConnectionManager: ConnectionConfig})}\n",
    "topology_specs = {i:{'type': 'basic'} for i in range(1, num_peers+1)}\n",
    "\n",
    "from p2psimpy.simulation import BaseSimulation\n",
    "# Create BaseSimulation with enabled logger and save in the logs directory. \n",
    "sim = BaseSimulation(Locations, topology_specs, peer_types, logger_dir='logs2')\n",
    "\n",
    "# Let's run the simulation for 5 seconds\n",
    "sim.run(5_000)\n",
    "#print the logs\n",
    "with open('logs2/Peer_1:basic.log') as s:\n",
    "    print(s.read())"
   ]
  },
  {
   "cell_type": "code",
   "execution_count": null,
   "metadata": {},
   "outputs": [],
   "source": []
  }
 ],
 "metadata": {
  "hide_input": false,
  "kernelspec": {
   "display_name": "Python 3",
   "language": "python",
   "name": "python3"
  },
  "language_info": {
   "codemirror_mode": {
    "name": "ipython",
    "version": 3
   },
   "file_extension": ".py",
   "mimetype": "text/x-python",
   "name": "python",
   "nbconvert_exporter": "python",
   "pygments_lexer": "ipython3",
   "version": "3.7.4"
  },
  "pycharm": {
   "stem_cell": {
    "cell_type": "raw",
    "metadata": {
     "collapsed": false
    },
    "source": []
   }
  },
  "toc": {
   "base_numbering": 1,
   "nav_menu": {},
   "number_sections": true,
   "sideBar": true,
   "skip_h1_title": false,
   "title_cell": "Table of Contents",
   "title_sidebar": "Contents",
   "toc_cell": false,
   "toc_position": {
    "height": "524px",
    "left": "441px",
    "top": "355px",
    "width": "256px"
   },
   "toc_section_display": true,
   "toc_window_display": false
  },
  "varInspector": {
   "cols": {
    "lenName": 16,
    "lenType": 16,
    "lenVar": 40
   },
   "kernels_config": {
    "python": {
     "delete_cmd_postfix": "",
     "delete_cmd_prefix": "del ",
     "library": "var_list.py",
     "varRefreshCmd": "print(var_dic_list())"
    },
    "r": {
     "delete_cmd_postfix": ") ",
     "delete_cmd_prefix": "rm(",
     "library": "var_list.r",
     "varRefreshCmd": "cat(var_dic_list()) "
    }
   },
   "types_to_exclude": [
    "module",
    "function",
    "builtin_function_or_method",
    "instance",
    "_Feature"
   ],
   "window_display": false
  }
 },
 "nbformat": 4,
 "nbformat_minor": 4
}
